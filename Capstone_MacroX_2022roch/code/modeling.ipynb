{
 "cells": [
  {
   "cell_type": "code",
   "execution_count": 1,
   "metadata": {},
   "outputs": [],
   "source": [
    "import pandas as pd\n",
    "from sklearn.model_selection import train_test_split\n",
    "from sklearn.tree import DecisionTreeRegressor\n",
    "import xgboost as xgb"
   ]
  },
  {
   "cell_type": "code",
   "execution_count": 2,
   "metadata": {},
   "outputs": [],
   "source": [
    "df = pd.read_csv(\"E:/UR_Files/UR_Cap_Stone/github/Capstone_MacroX/combine_data_cluster/Delhi_SO2.csv\")"
   ]
  },
  {
   "cell_type": "code",
   "execution_count": 3,
   "metadata": {},
   "outputs": [],
   "source": [
    "df2 = pd.read_csv(\"E:/UR_Files/UR_Cap_Stone/github/Capstone_MacroX/combine_data_distance/Delhi_SO2.csv\")"
   ]
  },
  {
   "cell_type": "code",
   "execution_count": 4,
   "metadata": {},
   "outputs": [],
   "source": [
    "X=df.drop(columns=['open_SO2','date'])\n",
    "y=df['open_SO2']"
   ]
  },
  {
   "cell_type": "code",
   "execution_count": 5,
   "metadata": {},
   "outputs": [],
   "source": [
    "X2=df2.drop(columns=['open_SO2','date'])\n",
    "y2=df2['open_SO2']"
   ]
  },
  {
   "cell_type": "code",
   "execution_count": 6,
   "metadata": {},
   "outputs": [],
   "source": [
    "X_train, X_test, y_train,y_test=train_test_split(X,y, random_state=265)"
   ]
  },
  {
   "cell_type": "code",
   "execution_count": 7,
   "metadata": {},
   "outputs": [],
   "source": [
    "X_train2, X_test2, y_train2,y_test2=train_test_split(X2,y2, random_state=265)"
   ]
  },
  {
   "cell_type": "code",
   "execution_count": 8,
   "metadata": {},
   "outputs": [
    {
     "data": {
      "text/plain": [
       "0.05043532078583757"
      ]
     },
     "execution_count": 8,
     "metadata": {},
     "output_type": "execute_result"
    }
   ],
   "source": [
    "reg = xgb.XGBRegressor(tree_method=\"gpu_hist\")\n",
    "reg.fit(X_train,y_train)\n",
    "reg.predict(X_test)\n",
    "reg.score(X_test,y_test)"
   ]
  },
  {
   "cell_type": "code",
   "execution_count": 9,
   "metadata": {},
   "outputs": [
    {
     "data": {
      "text/plain": [
       "-0.027424182671224928"
      ]
     },
     "execution_count": 9,
     "metadata": {},
     "output_type": "execute_result"
    }
   ],
   "source": [
    "reg = xgb.XGBRegressor(tree_method=\"gpu_hist\")\n",
    "reg.fit(X_train2,y_train2)\n",
    "reg.predict(X_test2)\n",
    "reg.score(X_test2,y_test2)"
   ]
  },
  {
   "cell_type": "code",
   "execution_count": 10,
   "metadata": {},
   "outputs": [
    {
     "data": {
      "text/plain": [
       "-0.6538931954425466"
      ]
     },
     "execution_count": 10,
     "metadata": {},
     "output_type": "execute_result"
    }
   ],
   "source": [
    "rng = DecisionTreeRegressor()\n",
    "rng.fit(X_train, y_train)\n",
    "rng.score(X_test,y_test)"
   ]
  },
  {
   "cell_type": "code",
   "execution_count": 11,
   "metadata": {},
   "outputs": [
    {
     "data": {
      "text/plain": [
       "-0.5692762042527757"
      ]
     },
     "execution_count": 11,
     "metadata": {},
     "output_type": "execute_result"
    }
   ],
   "source": [
    "rng = DecisionTreeRegressor()\n",
    "rng.fit(X_train2, y_train2)\n",
    "rng.score(X_test2,y_test2)"
   ]
  },
  {
   "cell_type": "code",
   "execution_count": 12,
   "metadata": {},
   "outputs": [],
   "source": [
    "df1=pd.read_csv('E:/UR_Files/UR_Cap_Stone/github/Capstone_MacroX/combine_data_cluster/Delhi_NO2.csv')"
   ]
  },
  {
   "cell_type": "code",
   "execution_count": 13,
   "metadata": {},
   "outputs": [],
   "source": [
    "df3=pd.read_csv('E:/UR_Files/UR_Cap_Stone/github/Capstone_MacroX/combine_data_distance/Delhi_NO2.csv')"
   ]
  },
  {
   "cell_type": "code",
   "execution_count": 14,
   "metadata": {},
   "outputs": [],
   "source": [
    "X1=df1.drop(columns=['open_NO2','date'])\n",
    "\n",
    "y1=df1['open_NO2']\n",
    "X_train1, X_test1, y_train1,y_test1=train_test_split(X1,y1, random_state=265)"
   ]
  },
  {
   "cell_type": "code",
   "execution_count": 15,
   "metadata": {},
   "outputs": [],
   "source": [
    "X3=df3.drop(columns=['open_NO2','date'])\n",
    "\n",
    "y3=df3['open_NO2']\n",
    "X_train3, X_test3, y_train3,y_test3=train_test_split(X3,y3, random_state=265)"
   ]
  },
  {
   "cell_type": "code",
   "execution_count": 16,
   "metadata": {},
   "outputs": [
    {
     "data": {
      "text/plain": [
       "0.4413912630449167"
      ]
     },
     "execution_count": 16,
     "metadata": {},
     "output_type": "execute_result"
    }
   ],
   "source": [
    "reg1 = xgb.XGBRegressor(tree_method=\"gpu_hist\")\n",
    "reg1.fit(X_train1,y_train1)\n",
    "reg1.predict(X_test1)\n",
    "reg1.score(X_test1,y_test1)"
   ]
  },
  {
   "cell_type": "code",
   "execution_count": 17,
   "metadata": {},
   "outputs": [
    {
     "data": {
      "text/plain": [
       "0.4311524033266899"
      ]
     },
     "execution_count": 17,
     "metadata": {},
     "output_type": "execute_result"
    }
   ],
   "source": [
    "reg1 = xgb.XGBRegressor(tree_method=\"gpu_hist\")\n",
    "reg1.fit(X_train3,y_train3)\n",
    "reg1.predict(X_test3)\n",
    "reg1.score(X_test3,y_test3)"
   ]
  },
  {
   "cell_type": "code",
   "execution_count": 18,
   "metadata": {},
   "outputs": [
    {
     "data": {
      "text/plain": [
       "-0.40604191808941814"
      ]
     },
     "execution_count": 18,
     "metadata": {},
     "output_type": "execute_result"
    }
   ],
   "source": [
    "rng1 = DecisionTreeRegressor()\n",
    "rng1.fit(X_train1, y_train1)\n",
    "rng1.score(X_test1,y_test1)"
   ]
  },
  {
   "cell_type": "code",
   "execution_count": 19,
   "metadata": {},
   "outputs": [
    {
     "data": {
      "text/plain": [
       "-0.22317220846052166"
      ]
     },
     "execution_count": 19,
     "metadata": {},
     "output_type": "execute_result"
    }
   ],
   "source": [
    "rng1 = DecisionTreeRegressor()\n",
    "rng1.fit(X_train3, y_train3)\n",
    "rng1.score(X_test3,y_test3)"
   ]
  },
  {
   "cell_type": "code",
   "execution_count": 20,
   "metadata": {},
   "outputs": [],
   "source": [
    "results = pd.DataFrame(columns = [['feature','model','score']], data=[['SO2','Decision Tree',-0.680072857151357],['SO2','XGBoost',0.05043532078583757],\n",
    "['NO2','Decision Tree',-0.19459843415127875],['NO2','XGBoost',0.4413912630449167]])"
   ]
  },
  {
   "cell_type": "code",
   "execution_count": 21,
   "metadata": {},
   "outputs": [],
   "source": [
    "results.to_csv(r'E:\\UR_Files\\UR_Cap_Stone\\Delhi_cluster_results_midterm.csv')"
   ]
  }
 ],
 "metadata": {
  "kernelspec": {
   "display_name": "Python 3.9.4 64-bit",
   "language": "python",
   "name": "python3"
  },
  "language_info": {
   "codemirror_mode": {
    "name": "ipython",
    "version": 3
   },
   "file_extension": ".py",
   "mimetype": "text/x-python",
   "name": "python",
   "nbconvert_exporter": "python",
   "pygments_lexer": "ipython3",
   "version": "3.9.4"
  },
  "orig_nbformat": 4,
  "vscode": {
   "interpreter": {
    "hash": "08fb1fc2f39788b76d50108e84c6fee453e14f61c13bab9cc28c9cac0e2e7f2a"
   }
  }
 },
 "nbformat": 4,
 "nbformat_minor": 2
}
