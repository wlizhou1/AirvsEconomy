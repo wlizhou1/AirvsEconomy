{
 "cells": [
  {
   "cell_type": "markdown",
   "id": "bc4cc83a",
   "metadata": {},
   "source": [
    "## Fetch Code From API\n",
    "---\n",
    "This code fetches the air quality for a given coordinate"
   ]
  },
  {
   "cell_type": "code",
   "execution_count": 1,
   "id": "f9a3f4f5",
   "metadata": {},
   "outputs": [],
   "source": [
    "import requests\n",
    "import json\n",
    "from datetime import datetime\n",
    "import pandas as pd\n",
    "from collections import Counter"
   ]
  },
  {
   "cell_type": "code",
   "execution_count": 16,
   "id": "a3c405aa",
   "metadata": {},
   "outputs": [],
   "source": [
    "data=pd.read_csv('India_City_Coordinates.csv', header=0) #Change upload directory\n",
    "api_key=\"YOUR API HERE\"\n",
    "# df=pd.DataFrame(columns=['City','Lat','Lng','Date','CO','NO','NO2','O3','SO2','PM2_5','PM10','NH3'])\n",
    "data_csv=[]\n",
    "for index, rows in data.iterrows():\n",
    "    lat=str(rows['center1'])\n",
    "    lng=str(rows['center2'])\n",
    "    api=\"https://pro.openweathermap.org/data/2.5/air_pollution/history?lat=\"+lat+\"&lon=\"+lng+\"&start=1388636865&end=1658857185&appid=\"+api_key\n",
    "    response = requests.get(api)\n",
    "    output=response.json()\n",
    "    list=output['list']\n",
    "\n",
    "    count=0\n",
    "    obj_2={}\n",
    "    data_csv=[]\n",
    "    for row,next in zip(list,list[1:]):\n",
    "            dt_object = datetime.fromtimestamp(row['dt']).date()\n",
    "            dt_object_n = datetime.fromtimestamp(next['dt']).date()\n",
    "            obj = row['components']\n",
    "\n",
    "            if(dt_object == dt_object_n):\n",
    "                obj_2 = Counter(obj)+Counter(obj_2)\n",
    "                count+=1\n",
    "            else:\n",
    "                obj_2 = Counter(obj)+Counter(obj_2)\n",
    "                count+=1\n",
    "                temp = {'City':rows['City'],'Lat':lat,'Lng':lng,'Date': dt_object,'CO':(obj_2['co']/(count)),'NO2':(obj_2['no2']/count),'SO2':(obj_2['so2']/count),'PM2_5':(obj_2['pm2_5']/count)}\n",
    "                data_csv.append(temp)\n",
    "                obj_2={}\n",
    "                count=0\n",
    "\n",
    "    df=pd.DataFrame(data_csv,columns=['City','Lat','Lng','Date','CO','NO2','SO2','PM2_5'])\n",
    "    df.to_csv(\"Data_Openweathermap/raw_data/\" + rows['City'] + '_raw.csv')"
   ]
  },
  {
   "cell_type": "code",
   "execution_count": null,
   "id": "da9be517",
   "metadata": {},
   "outputs": [],
   "source": []
  }
 ],
 "metadata": {
  "kernelspec": {
   "display_name": "Python 3.8.8 ('base')",
   "language": "python",
   "name": "python3"
  },
  "language_info": {
   "codemirror_mode": {
    "name": "ipython",
    "version": 3
   },
   "file_extension": ".py",
   "mimetype": "text/x-python",
   "name": "python",
   "nbconvert_exporter": "python",
   "pygments_lexer": "ipython3",
   "version": "3.8.8"
  },
  "vscode": {
   "interpreter": {
    "hash": "0c23b94451a1fd93e008088e21a7fb77c3cebdce16d5c69593f720850159548d"
   }
  }
 },
 "nbformat": 4,
 "nbformat_minor": 5
}
